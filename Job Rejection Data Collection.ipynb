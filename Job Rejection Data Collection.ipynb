{
 "cells": [
  {
   "cell_type": "markdown",
   "metadata": {},
   "source": [
    "# Job Rejection Data Collection\n",
    "My aim is to explore and find meaningful insights in job rejection emails. However, in order to do this we first need to collect the data. In order to do this, I am going to use several Python packages that specialize in scraping directly from gmail. Here's some resources that were helpful:\n",
    "* https://gist.github.com/jasonrdsouza/1674794\n",
    "* https://gist.github.com/robulouski/7441883"
   ]
  },
  {
   "cell_type": "code",
   "execution_count": 173,
   "metadata": {},
   "outputs": [],
   "source": [
    "# Imports\n",
    "import pandas as pd\n",
    "import numpy as np\n",
    "import matplotlib.pyplot as plt\n",
    "import seaborn as sns\n",
    "import io\n",
    "import email, getpass, imaplib, os, re\n",
    "from datetime import datetime\n",
    "%matplotlib inline\n",
    "sns.set_style('whitegrid')"
   ]
  },
  {
   "cell_type": "code",
   "execution_count": 174,
   "metadata": {},
   "outputs": [
    {
     "name": "stdout",
     "output_type": "stream",
     "text": [
      "Enter your GMail username:cdewey96@vt.edu\n",
      "Enter your password: ········\n"
     ]
    }
   ],
   "source": [
    "# Login to gmail\n",
    "detach_dir = '.'\n",
    "user = input(\"Enter your GMail username:\")\n",
    "pwd = getpass.getpass(\"Enter your password: \")"
   ]
  },
  {
   "cell_type": "code",
   "execution_count": 175,
   "metadata": {},
   "outputs": [
    {
     "data": {
      "text/plain": [
       "('OK', [b'cdewey96@vt.edu authenticated (Success)'])"
      ]
     },
     "execution_count": 175,
     "metadata": {},
     "output_type": "execute_result"
    }
   ],
   "source": [
    "# Connect to gmail imap sever\n",
    "m = imaplib.IMAP4_SSL(\"imap.gmail.com\")\n",
    "m.login(user, pwd)"
   ]
  },
  {
   "cell_type": "code",
   "execution_count": 176,
   "metadata": {
    "scrolled": true
   },
   "outputs": [
    {
     "data": {
      "text/plain": [
       "('OK', [b'86'])"
      ]
     },
     "execution_count": 176,
     "metadata": {},
     "output_type": "execute_result"
    }
   ],
   "source": [
    "# Go to correct directory\n",
    "m.select('\"Job Rejection\"')"
   ]
  },
  {
   "cell_type": "code",
   "execution_count": 177,
   "metadata": {},
   "outputs": [],
   "source": [
    "# Get the email ids\n",
    "resp, items = m.search(None, \"All\")\n",
    "items = items[0].split()"
   ]
  },
  {
   "cell_type": "code",
   "execution_count": 208,
   "metadata": {
    "collapsed": true
   },
   "outputs": [],
   "source": [
    "# Initialize lists\n",
    "text = []\n",
    "dates = []\n",
    "subjects = []"
   ]
  },
  {
   "cell_type": "code",
   "execution_count": 209,
   "metadata": {},
   "outputs": [],
   "source": [
    "# Collect data\n",
    "for emailid in items:\n",
    "    \n",
    "    # Fetch everything from the id\n",
    "    resp, data = m.fetch(emailid, \"(RFC822)\")\n",
    "    \n",
    "    # Get the content\n",
    "    email_body = data[0][1]\n",
    "    \n",
    "    # Convert to mail object\n",
    "    mail = email.message_from_bytes(email_body)\n",
    "    \n",
    "    # Get subject\n",
    "    subjects.append(email.header.decode_header(mail['Subject'])[0][0])\n",
    "    \n",
    "    # Get date\n",
    "    date_tuple = email.utils.parsedate_tz(mail['Date'])\n",
    "    dates.append(datetime.fromtimestamp(email.utils.mktime_tz(date_tuple)))\n",
    "    \n",
    "    # Get text\n",
    "    if mail.is_multipart():\n",
    "        text.append(mail.get_payload(0).get_payload())\n",
    "    else:\n",
    "        text.append(mail.get_payload())"
   ]
  },
  {
   "cell_type": "code",
   "execution_count": 216,
   "metadata": {},
   "outputs": [
    {
     "data": {
      "text/html": [
       "<div>\n",
       "<style>\n",
       "    .dataframe thead tr:only-child th {\n",
       "        text-align: right;\n",
       "    }\n",
       "\n",
       "    .dataframe thead th {\n",
       "        text-align: left;\n",
       "    }\n",
       "\n",
       "    .dataframe tbody tr th {\n",
       "        vertical-align: top;\n",
       "    }\n",
       "</style>\n",
       "<table border=\"1\" class=\"dataframe\">\n",
       "  <thead>\n",
       "    <tr style=\"text-align: right;\">\n",
       "      <th></th>\n",
       "      <th>Date</th>\n",
       "      <th>Subject</th>\n",
       "      <th>Text</th>\n",
       "    </tr>\n",
       "  </thead>\n",
       "  <tbody>\n",
       "    <tr>\n",
       "      <th>0</th>\n",
       "      <td>2018-07-12 12:31:08</td>\n",
       "      <td>Your IBM Application</td>\n",
       "      <td>Ref: 110127BR - 2018 Data Scientist Internship...</td>\n",
       "    </tr>\n",
       "    <tr>\n",
       "      <th>1</th>\n",
       "      <td>2018-06-12 16:30:28</td>\n",
       "      <td>Thank you from Workday!</td>\n",
       "      <td>&lt;!doctype html&gt;&lt;html xmlns:o=3D\"urn:schemas-mi...</td>\n",
       "    </tr>\n",
       "    <tr>\n",
       "      <th>2</th>\n",
       "      <td>2018-05-17 08:43:38</td>\n",
       "      <td>An Update Regarding Your Visa Job Application</td>\n",
       "      <td>\\r\\nDear Conor,\\r\\nThank you for giving us the...</td>\n",
       "    </tr>\n",
       "    <tr>\n",
       "      <th>3</th>\n",
       "      <td>2018-05-01 15:21:05</td>\n",
       "      <td>Thank you for your interest in Zynga for Inter...</td>\n",
       "      <td>&lt;html&gt;&lt;head&gt;\\r\\n&lt;meta http-equiv=3DContent-Typ...</td>\n",
       "    </tr>\n",
       "    <tr>\n",
       "      <th>4</th>\n",
       "      <td>2018-04-26 14:49:02</td>\n",
       "      <td>Your Application with Cambia Health Solutions</td>\n",
       "      <td>Dear Conor,\\r\\n=C2=A0\\r\\nThank you for the int...</td>\n",
       "    </tr>\n",
       "  </tbody>\n",
       "</table>\n",
       "</div>"
      ],
      "text/plain": [
       "                 Date                                            Subject  \\\n",
       "0 2018-07-12 12:31:08                               Your IBM Application   \n",
       "1 2018-06-12 16:30:28                            Thank you from Workday!   \n",
       "2 2018-05-17 08:43:38      An Update Regarding Your Visa Job Application   \n",
       "3 2018-05-01 15:21:05  Thank you for your interest in Zynga for Inter...   \n",
       "4 2018-04-26 14:49:02      Your Application with Cambia Health Solutions   \n",
       "\n",
       "                                                Text  \n",
       "0  Ref: 110127BR - 2018 Data Scientist Internship...  \n",
       "1  <!doctype html><html xmlns:o=3D\"urn:schemas-mi...  \n",
       "2  \\r\\nDear Conor,\\r\\nThank you for giving us the...  \n",
       "3  <html><head>\\r\\n<meta http-equiv=3DContent-Typ...  \n",
       "4  Dear Conor,\\r\\n=C2=A0\\r\\nThank you for the int...  "
      ]
     },
     "execution_count": 216,
     "metadata": {},
     "output_type": "execute_result"
    }
   ],
   "source": [
    "# Convert to dataframe\n",
    "df = pd.DataFrame(data={'Date': dates, 'Subject': subjects, 'Text': text})\n",
    "df.head()"
   ]
  },
  {
   "cell_type": "code",
   "execution_count": 251,
   "metadata": {},
   "outputs": [],
   "source": [
    "# Break up date column\n",
    "df['Time'] = df['Date'].apply(lambda x: x.time())\n",
    "df['Day'] = df['Date'].apply(lambda x: x.weekday()).map({0:'Mon', 1:'Tues', 2:'Weds', \n",
    "                                                         3:'Thurs', 4:'Fri', 5:'Sat', 6:'Sun'})\n",
    "df['Hour'] = df['Time'].apply(lambda x: x.hour)\n",
    "df = df[['Date', 'Time', 'Day', 'Hour', 'Subject', 'Text']]"
   ]
  },
  {
   "cell_type": "code",
   "execution_count": 255,
   "metadata": {},
   "outputs": [
    {
     "data": {
      "text/html": [
       "<div>\n",
       "<style>\n",
       "    .dataframe thead tr:only-child th {\n",
       "        text-align: right;\n",
       "    }\n",
       "\n",
       "    .dataframe thead th {\n",
       "        text-align: left;\n",
       "    }\n",
       "\n",
       "    .dataframe tbody tr th {\n",
       "        vertical-align: top;\n",
       "    }\n",
       "</style>\n",
       "<table border=\"1\" class=\"dataframe\">\n",
       "  <thead>\n",
       "    <tr style=\"text-align: right;\">\n",
       "      <th></th>\n",
       "      <th>Date</th>\n",
       "      <th>Time</th>\n",
       "      <th>Day</th>\n",
       "      <th>Hour</th>\n",
       "      <th>Subject</th>\n",
       "      <th>Text</th>\n",
       "    </tr>\n",
       "  </thead>\n",
       "  <tbody>\n",
       "    <tr>\n",
       "      <th>0</th>\n",
       "      <td>2018-07-12 12:31:08</td>\n",
       "      <td>12:31:08</td>\n",
       "      <td>Thurs</td>\n",
       "      <td>12</td>\n",
       "      <td>Your IBM Application</td>\n",
       "      <td>Ref: 110127BR - 2018 Data Scientist Internship...</td>\n",
       "    </tr>\n",
       "    <tr>\n",
       "      <th>1</th>\n",
       "      <td>2018-06-12 16:30:28</td>\n",
       "      <td>16:30:28</td>\n",
       "      <td>Tues</td>\n",
       "      <td>16</td>\n",
       "      <td>Thank you from Workday!</td>\n",
       "      <td>&lt;!doctype html&gt;&lt;html xmlns:o=3D\"urn:schemas-mi...</td>\n",
       "    </tr>\n",
       "    <tr>\n",
       "      <th>2</th>\n",
       "      <td>2018-05-17 08:43:38</td>\n",
       "      <td>08:43:38</td>\n",
       "      <td>Thurs</td>\n",
       "      <td>8</td>\n",
       "      <td>An Update Regarding Your Visa Job Application</td>\n",
       "      <td>\\r\\nDear Conor,\\r\\nThank you for giving us the...</td>\n",
       "    </tr>\n",
       "    <tr>\n",
       "      <th>3</th>\n",
       "      <td>2018-05-01 15:21:05</td>\n",
       "      <td>15:21:05</td>\n",
       "      <td>Tues</td>\n",
       "      <td>15</td>\n",
       "      <td>Thank you for your interest in Zynga for Inter...</td>\n",
       "      <td>&lt;html&gt;&lt;head&gt;\\r\\n&lt;meta http-equiv=3DContent-Typ...</td>\n",
       "    </tr>\n",
       "    <tr>\n",
       "      <th>4</th>\n",
       "      <td>2018-04-26 14:49:02</td>\n",
       "      <td>14:49:02</td>\n",
       "      <td>Thurs</td>\n",
       "      <td>14</td>\n",
       "      <td>Your Application with Cambia Health Solutions</td>\n",
       "      <td>Dear Conor,\\r\\n=C2=A0\\r\\nThank you for the int...</td>\n",
       "    </tr>\n",
       "  </tbody>\n",
       "</table>\n",
       "</div>"
      ],
      "text/plain": [
       "                 Date      Time    Day  Hour  \\\n",
       "0 2018-07-12 12:31:08  12:31:08  Thurs    12   \n",
       "1 2018-06-12 16:30:28  16:30:28   Tues    16   \n",
       "2 2018-05-17 08:43:38  08:43:38  Thurs     8   \n",
       "3 2018-05-01 15:21:05  15:21:05   Tues    15   \n",
       "4 2018-04-26 14:49:02  14:49:02  Thurs    14   \n",
       "\n",
       "                                             Subject  \\\n",
       "0                               Your IBM Application   \n",
       "1                            Thank you from Workday!   \n",
       "2      An Update Regarding Your Visa Job Application   \n",
       "3  Thank you for your interest in Zynga for Inter...   \n",
       "4      Your Application with Cambia Health Solutions   \n",
       "\n",
       "                                                Text  \n",
       "0  Ref: 110127BR - 2018 Data Scientist Internship...  \n",
       "1  <!doctype html><html xmlns:o=3D\"urn:schemas-mi...  \n",
       "2  \\r\\nDear Conor,\\r\\nThank you for giving us the...  \n",
       "3  <html><head>\\r\\n<meta http-equiv=3DContent-Typ...  \n",
       "4  Dear Conor,\\r\\n=C2=A0\\r\\nThank you for the int...  "
      ]
     },
     "execution_count": 255,
     "metadata": {},
     "output_type": "execute_result"
    }
   ],
   "source": [
    "# Preview data\n",
    "df.head()"
   ]
  },
  {
   "cell_type": "code",
   "execution_count": 257,
   "metadata": {},
   "outputs": [
    {
     "name": "stdout",
     "output_type": "stream",
     "text": [
      "<class 'pandas.core.frame.DataFrame'>\n",
      "RangeIndex: 86 entries, 0 to 85\n",
      "Data columns (total 6 columns):\n",
      "Date       86 non-null datetime64[ns]\n",
      "Time       86 non-null object\n",
      "Day        86 non-null object\n",
      "Hour       86 non-null int64\n",
      "Subject    86 non-null object\n",
      "Text       86 non-null object\n",
      "dtypes: datetime64[ns](1), int64(1), object(4)\n",
      "memory usage: 4.1+ KB\n"
     ]
    }
   ],
   "source": [
    "# Data overview\n",
    "df.info()"
   ]
  },
  {
   "cell_type": "code",
   "execution_count": 258,
   "metadata": {
    "collapsed": true
   },
   "outputs": [],
   "source": [
    "# Export to csv\n",
    "df.to_csv('rejections.csv', index=False)"
   ]
  },
  {
   "cell_type": "markdown",
   "metadata": {},
   "source": [
    "Note that in order to replicate this data for yourself, there are a couple nuances in dealing with two factor authentication and IMAP access among other things so keep that in mind. I found that the easiest solution is the generate an app-specific password (you need two-factor to do this) and then just use that password when logging in. That's all for now! In my next notebook, I'll look into answering some interesting questions and diving deeper into the data itself. "
   ]
  }
 ],
 "metadata": {
  "kernelspec": {
   "display_name": "Python 3",
   "language": "python",
   "name": "python3"
  },
  "language_info": {
   "codemirror_mode": {
    "name": "ipython",
    "version": 3
   },
   "file_extension": ".py",
   "mimetype": "text/x-python",
   "name": "python",
   "nbconvert_exporter": "python",
   "pygments_lexer": "ipython3",
   "version": "3.6.6"
  }
 },
 "nbformat": 4,
 "nbformat_minor": 2
}
