{
 "cells": [
  {
   "cell_type": "markdown",
   "metadata": {},
   "source": [
    "# Job Rejection Data Collection\n",
    "My aim is to explore and find meaningful insights in job rejection emails. However, in order to do this we first need to collect the data. In order to do this, I am going to use several Python packages that specialize in scraping directly from gmail. Here's some resources that were helpful:\n",
    "* https://gist.github.com/jasonrdsouza/1674794"
   ]
  },
  {
   "cell_type": "code",
   "execution_count": 9,
   "metadata": {},
   "outputs": [],
   "source": [
    "# Imports\n",
    "import pandas as pd\n",
    "import numpy as np\n",
    "import matplotlib.pyplot as plt\n",
    "import seaborn as sns\n",
    "import email, getpass, imaplib, os, re\n",
    "%matplotlib inline\n",
    "sns.set_style('whitegrid')"
   ]
  },
  {
   "cell_type": "code",
   "execution_count": 10,
   "metadata": {},
   "outputs": [
    {
     "name": "stdout",
     "output_type": "stream",
     "text": [
      "Enter your GMail username:cdewey96@vt.edu\n",
      "Enter your password: ········\n"
     ]
    }
   ],
   "source": [
    "# Login to gmail\n",
    "detach_dir = '.'\n",
    "user = input(\"Enter your GMail username:\")\n",
    "pwd = getpass.getpass(\"Enter your password: \")"
   ]
  },
  {
   "cell_type": "code",
   "execution_count": 13,
   "metadata": {},
   "outputs": [
    {
     "data": {
      "text/plain": [
       "('OK', [b'cdewey96@vt.edu authenticated (Success)'])"
      ]
     },
     "execution_count": 13,
     "metadata": {},
     "output_type": "execute_result"
    }
   ],
   "source": [
    "# Connect to gmail imap sever\n",
    "m = imaplib.IMAP4_SSL(\"imap.gmail.com\")\n",
    "m.login(user, pwd)"
   ]
  },
  {
   "cell_type": "code",
   "execution_count": 39,
   "metadata": {
    "scrolled": true
   },
   "outputs": [
    {
     "data": {
      "text/plain": [
       "('OK', [b'1'])"
      ]
     },
     "execution_count": 39,
     "metadata": {},
     "output_type": "execute_result"
    }
   ],
   "source": [
    "# Go to correct directory\n",
    "m.select(('\"Job Rejection\"'))"
   ]
  },
  {
   "cell_type": "code",
   "execution_count": 40,
   "metadata": {},
   "outputs": [
    {
     "data": {
      "text/plain": [
       "1"
      ]
     },
     "execution_count": 40,
     "metadata": {},
     "output_type": "execute_result"
    }
   ],
   "source": [
    "# Get the email ids\n",
    "resp, items = m.search(None, \"All\")\n",
    "items = items[0].split()\n",
    "len(items)"
   ]
  },
  {
   "cell_type": "code",
   "execution_count": null,
   "metadata": {
    "collapsed": true
   },
   "outputs": [],
   "source": [
    "for emailid in items:\n",
    "    resp, data = m.fetch(emailid, \"(RFC822)\") # fetching the mail, \"`(RFC822)`\" means \"get the whole stuff\", but you can ask for headers only, etc\n",
    "    email_body = data[0][1] # getting the mail content\n",
    "    mail = email.message_from_string(email_body) # parsing the mail content to get a mail object\n",
    "\n",
    "    #Check if any attachments at all\n",
    "    if mail.get_content_maintype() != 'multipart':\n",
    "        continue\n",
    "\n",
    "    print \"[\"+mail[\"From\"]+\"] :\" + mail[\"Subject\"]\n",
    "\n",
    "    # we use walk to create a generator so we can iterate on the parts and forget about the recursive headach\n",
    "    for part in mail.walk():\n",
    "        # multipart are just containers, so we skip them\n",
    "        if part.get_content_maintype() == 'multipart':\n",
    "            continue\n",
    "\n",
    "        # is this part an attachment ?\n",
    "        if part.get('Content-Disposition') is None:\n",
    "            continue\n",
    "\n",
    "        #filename = part.get_filename()\n",
    "\n",
    "        filename = mail[\"From\"] + \"_hw1answer\"\n",
    "        \n",
    "        att_path = os.path.join(detach_dir, filename)\n",
    "\n",
    "        #Check if its already there\n",
    "        if not os.path.isfile(att_path) :\n",
    "            # finally write the stuff\n",
    "            fp = open(att_path, 'wb')\n",
    "            fp.write(part.get_payload(decode=True))\n",
    "            fp.close()"
   ]
  }
 ],
 "metadata": {
  "kernelspec": {
   "display_name": "Python 3",
   "language": "python",
   "name": "python3"
  },
  "language_info": {
   "codemirror_mode": {
    "name": "ipython",
    "version": 3
   },
   "file_extension": ".py",
   "mimetype": "text/x-python",
   "name": "python",
   "nbconvert_exporter": "python",
   "pygments_lexer": "ipython3",
   "version": "3.6.6"
  }
 },
 "nbformat": 4,
 "nbformat_minor": 2
}
